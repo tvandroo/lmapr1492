{
 "cells": [
  {
   "cell_type": "code",
   "execution_count": 4,
   "metadata": {},
   "outputs": [
    {
     "name": "stdout",
     "output_type": "stream",
     "text": [
      "Système cristallin : trigonal\n",
      "Groupe ponctuel : -3m\n",
      "Vecteurs de base du réseau direct :\n",
      "3.792493 -0.000100 5.952009\n",
      "1.735026 3.372341 5.952009\n",
      "-0.000165 -0.000100 7.057579\n",
      "Vecteurs de base du réseau direct :\n",
      "1.656679 -0.852387 0.000027\n",
      "0.000008 1.863101 0.000027\n",
      "-1.397167 -0.852387 0.890230\n"
     ]
    }
   ],
   "source": [
    "from pymatgen.ext.matproj import MPRester\n",
    "from pymatgen.io.cif import CifWriter\n",
    "from pymatgen.symmetry.analyzer import SpacegroupAnalyzer\n",
    "from pymatgen.core.structure import Structure\n",
    "\n",
    "def getCIF():\n",
    "    api_key = \"JmzD7RNxhb8WTdxuZdy\"\n",
    "    mat_id = \"mp-3613\"\n",
    "    with MPRester(api_key) as m:\n",
    "        s = m.get_structure_by_material_id(mat_id)\n",
    "        f = CifWriter(s)\n",
    "        f.write_file('cristal.cif')\n",
    "        return s\n",
    "\n",
    "\n",
    "s = getCIF()\n",
    "point_group = SpacegroupAnalyzer(s).get_point_group_symbol() #Groupe ponctuel\n",
    "system = SpacegroupAnalyzer(s).get_crystal_system() #Système cristallin\n",
    "\n",
    "print('Système cristallin : '+ system)\n",
    "print('Groupe ponctuel : ' + point_group)\n",
    "\n",
    "print('Vecteurs de base du réseau direct :')\n",
    "print(s.lattice)\n",
    "print('Vecteurs de base du réseau direct :')\n",
    "print(s.lattice.reciprocal_lattice)\n",
    "\n"
   ]
  },
  {
   "cell_type": "code",
   "execution_count": null,
   "metadata": {},
   "outputs": [],
   "source": []
  },
  {
   "cell_type": "code",
   "execution_count": null,
   "metadata": {},
   "outputs": [],
   "source": []
  },
  {
   "cell_type": "code",
   "execution_count": null,
   "metadata": {},
   "outputs": [],
   "source": []
  },
  {
   "cell_type": "code",
   "execution_count": null,
   "metadata": {},
   "outputs": [],
   "source": []
  },
  {
   "cell_type": "code",
   "execution_count": null,
   "metadata": {},
   "outputs": [],
   "source": []
  }
 ],
 "metadata": {
  "kernelspec": {
   "display_name": "Python 3",
   "language": "python",
   "name": "python3"
  },
  "language_info": {
   "codemirror_mode": {
    "name": "ipython",
    "version": 3
   },
   "file_extension": ".py",
   "mimetype": "text/x-python",
   "name": "python",
   "nbconvert_exporter": "python",
   "pygments_lexer": "ipython3",
   "version": "3.6.8"
  }
 },
 "nbformat": 4,
 "nbformat_minor": 2
}
